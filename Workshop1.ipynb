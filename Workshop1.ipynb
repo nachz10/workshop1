{
  "nbformat": 4,
  "nbformat_minor": 0,
  "metadata": {
    "colab": {
      "provenance": []
    },
    "kernelspec": {
      "name": "python3",
      "display_name": "Python 3"
    },
    "language_info": {
      "name": "python"
    }
  },
  "cells": [
    {
      "cell_type": "code",
      "execution_count": null,
      "metadata": {
        "colab": {
          "base_uri": "https://localhost:8080/"
        },
        "id": "U1lCQn7LVswE",
        "outputId": "a27097e9-fd1e-467b-eeae-2c1a6347f2bf"
      },
      "outputs": [
        {
          "output_type": "execute_result",
          "data": {
            "text/plain": [
              "array([[4.9e-324, 9.9e-324],\n",
              "       [1.5e-323, 2.0e-323]])"
            ]
          },
          "metadata": {},
          "execution_count": 24
        }
      ],
      "source": [
        "import numpy as np\n",
        "a = np.empty((2,2))\n",
        "a"
      ]
    },
    {
      "cell_type": "code",
      "source": [
        "a = np.empty((4,3))\n",
        "a"
      ],
      "metadata": {
        "colab": {
          "base_uri": "https://localhost:8080/"
        },
        "id": "tBQAqnk6YmxH",
        "outputId": "1e90f37b-fc8e-44e3-fc92-b92a43cd01b7"
      },
      "execution_count": null,
      "outputs": [
        {
          "output_type": "execute_result",
          "data": {
            "text/plain": [
              "array([[5.06397028e-310, 0.00000000e+000, 0.00000000e+000],\n",
              "       [0.00000000e+000, 0.00000000e+000, 0.00000000e+000],\n",
              "       [0.00000000e+000, 0.00000000e+000, 0.00000000e+000],\n",
              "       [0.00000000e+000, 0.00000000e+000, 0.00000000e+000]])"
            ]
          },
          "metadata": {},
          "execution_count": 25
        }
      ]
    },
    {
      "cell_type": "code",
      "source": [
        "a = np.full((2,2),3)\n",
        "a\n",
        "\n"
      ],
      "metadata": {
        "id": "29h3wlVWYfVo",
        "colab": {
          "base_uri": "https://localhost:8080/"
        },
        "outputId": "a329c90a-9adf-4ec9-8dac-5c75d8b64223"
      },
      "execution_count": null,
      "outputs": [
        {
          "output_type": "execute_result",
          "data": {
            "text/plain": [
              "array([[3, 3],\n",
              "       [3, 3]])"
            ]
          },
          "metadata": {},
          "execution_count": 27
        }
      ]
    },
    {
      "cell_type": "code",
      "source": [
        "y = np.arange(4, dtype=int)\n",
        "np.full_like(y, 2)"
      ],
      "metadata": {
        "colab": {
          "base_uri": "https://localhost:8080/"
        },
        "id": "4zRDpf4nfwD9",
        "outputId": "1a4f998f-fe65-4f67-c72f-f884130173b7"
      },
      "execution_count": null,
      "outputs": [
        {
          "output_type": "execute_result",
          "data": {
            "text/plain": [
              "array([2, 2, 2, 2])"
            ]
          },
          "metadata": {},
          "execution_count": 30
        }
      ]
    },
    {
      "cell_type": "code",
      "source": [
        "y = np.arange(6, dtype=float)\n",
        "y\n",
        "np.ones_like(y)"
      ],
      "metadata": {
        "colab": {
          "base_uri": "https://localhost:8080/"
        },
        "id": "Ez97ANN7fw1q",
        "outputId": "3258fbec-e921-4fd7-d564-8e3b9363c036"
      },
      "execution_count": null,
      "outputs": [
        {
          "output_type": "execute_result",
          "data": {
            "text/plain": [
              "array([1., 1., 1., 1., 1., 1.])"
            ]
          },
          "metadata": {},
          "execution_count": 31
        }
      ]
    },
    {
      "cell_type": "code",
      "source": [
        "a = ([1,2,3,4])\n",
        "a\n",
        "y = np.array([a])\n",
        "y"
      ],
      "metadata": {
        "colab": {
          "base_uri": "https://localhost:8080/"
        },
        "id": "kMoWMix0fw-x",
        "outputId": "443896e9-0a62-4573-fa4b-403594151fcb"
      },
      "execution_count": null,
      "outputs": [
        {
          "output_type": "execute_result",
          "data": {
            "text/plain": [
              "array([[1, 2, 3, 4]])"
            ]
          },
          "metadata": {},
          "execution_count": 36
        }
      ]
    },
    {
      "cell_type": "code",
      "source": [
        "np.arange(10,50)\n"
      ],
      "metadata": {
        "colab": {
          "base_uri": "https://localhost:8080/"
        },
        "id": "KzbUHaBbfxLA",
        "outputId": "30bff2b7-78e8-4590-932a-4e88fa365dfb"
      },
      "execution_count": null,
      "outputs": [
        {
          "output_type": "execute_result",
          "data": {
            "text/plain": [
              "array([10, 11, 12, 13, 14, 15, 16, 17, 18, 19, 20, 21, 22, 23, 24, 25, 26,\n",
              "       27, 28, 29, 30, 31, 32, 33, 34, 35, 36, 37, 38, 39, 40, 41, 42, 43,\n",
              "       44, 45, 46, 47, 48, 49])"
            ]
          },
          "metadata": {},
          "execution_count": 41
        }
      ]
    },
    {
      "cell_type": "code",
      "source": [
        "a = np.array([[1,2,3], [4,5,6]])\n",
        "np.reshape(a, 6)"
      ],
      "metadata": {
        "colab": {
          "base_uri": "https://localhost:8080/"
        },
        "id": "Zp7b2D-xfxVb",
        "outputId": "bf4d81cc-0877-4a58-cedb-fa9823367c4a"
      },
      "execution_count": null,
      "outputs": [
        {
          "output_type": "execute_result",
          "data": {
            "text/plain": [
              "array([1, 2, 3, 4, 5, 6])"
            ]
          },
          "metadata": {},
          "execution_count": 42
        }
      ]
    },
    {
      "cell_type": "code",
      "source": [
        "np.eye(6, dtype=int)"
      ],
      "metadata": {
        "colab": {
          "base_uri": "https://localhost:8080/"
        },
        "id": "YWNmQ5hnfxfD",
        "outputId": "c0ddc9f7-bb12-4e68-8274-6c7580184f04"
      },
      "execution_count": null,
      "outputs": [
        {
          "output_type": "execute_result",
          "data": {
            "text/plain": [
              "array([[1, 0, 0, 0, 0, 0],\n",
              "       [0, 1, 0, 0, 0, 0],\n",
              "       [0, 0, 1, 0, 0, 0],\n",
              "       [0, 0, 0, 1, 0, 0],\n",
              "       [0, 0, 0, 0, 1, 0],\n",
              "       [0, 0, 0, 0, 0, 1]])"
            ]
          },
          "metadata": {},
          "execution_count": 43
        }
      ]
    },
    {
      "cell_type": "code",
      "source": [
        "y = np.random.random(30)\n",
        "y\n",
        "a = y.mean()\n",
        "a\n"
      ],
      "metadata": {
        "colab": {
          "base_uri": "https://localhost:8080/"
        },
        "id": "NUCYg2kBfxoc",
        "outputId": "af4564a1-66cf-43ab-87f1-6108fb8894b5"
      },
      "execution_count": null,
      "outputs": [
        {
          "output_type": "execute_result",
          "data": {
            "text/plain": [
              "0.531772453926737"
            ]
          },
          "metadata": {},
          "execution_count": 46
        }
      ]
    },
    {
      "cell_type": "code",
      "source": [
        "a = np.random.rand(10,10)\n",
        "a"
      ],
      "metadata": {
        "colab": {
          "base_uri": "https://localhost:8080/"
        },
        "id": "I_3If3I-oURA",
        "outputId": "80d58a34-bb26-4b62-92e2-84174a04bb0a"
      },
      "execution_count": null,
      "outputs": [
        {
          "output_type": "execute_result",
          "data": {
            "text/plain": [
              "array([[0.48741273, 0.41624898, 0.72558085, 0.29978246, 0.0066268 ,\n",
              "        0.09930184, 0.27204691, 0.29289639, 0.84219376, 0.24377969],\n",
              "       [0.82841136, 0.38918817, 0.69391224, 0.34271405, 0.94263448,\n",
              "        0.94060481, 0.23926182, 0.16564847, 0.89912611, 0.93524603],\n",
              "       [0.39792661, 0.88841557, 0.01409008, 0.61190952, 0.21225695,\n",
              "        0.00140062, 0.11311291, 0.96236286, 0.94201801, 0.46842577],\n",
              "       [0.34103078, 0.06091855, 0.36620746, 0.19432666, 0.21689614,\n",
              "        0.97460355, 0.90558634, 0.72331741, 0.84523904, 0.94720267],\n",
              "       [0.09997666, 0.58075692, 0.9473801 , 0.86458704, 0.88514502,\n",
              "        0.50563977, 0.49468761, 0.4552733 , 0.36775823, 0.80699656],\n",
              "       [0.80560158, 0.50734085, 0.44214042, 0.14547782, 0.69890473,\n",
              "        0.27378425, 0.78203648, 0.461267  , 0.13609869, 0.98014249],\n",
              "       [0.13485038, 0.48771823, 0.57137097, 0.95304978, 0.40164405,\n",
              "        0.00475287, 0.18997773, 0.38568899, 0.16421721, 0.71941892],\n",
              "       [0.59433462, 0.33223124, 0.94246252, 0.21501095, 0.55929946,\n",
              "        0.11526748, 0.59420427, 0.85699002, 0.76488723, 0.13058333],\n",
              "       [0.86429378, 0.66312092, 0.5294156 , 0.63177326, 0.46661474,\n",
              "        0.43540855, 0.55218781, 0.43193818, 0.87215148, 0.6144554 ],\n",
              "       [0.64058895, 0.31178294, 0.59502981, 0.79146354, 0.13184395,\n",
              "        0.94295628, 0.83927652, 0.19158292, 0.90344323, 0.9841644 ]])"
            ]
          },
          "metadata": {},
          "execution_count": 48
        }
      ]
    },
    {
      "cell_type": "code",
      "source": [
        "y = np.zeros(10)\n",
        "y[4]=1\n",
        "y"
      ],
      "metadata": {
        "colab": {
          "base_uri": "https://localhost:8080/"
        },
        "id": "pSfaSeItoUXh",
        "outputId": "07d00ce3-506e-426f-87d4-1710218e3d1f"
      },
      "execution_count": null,
      "outputs": [
        {
          "output_type": "execute_result",
          "data": {
            "text/plain": [
              "array([0., 0., 0., 0., 1., 0., 0., 0., 0., 0.])"
            ]
          },
          "metadata": {},
          "execution_count": 51
        }
      ]
    },
    {
      "cell_type": "code",
      "source": [
        "a =np.array([1,2,0,0,4,0])\n",
        "y=np.flip(a)\n",
        "y\n"
      ],
      "metadata": {
        "colab": {
          "base_uri": "https://localhost:8080/"
        },
        "id": "PnZBXqB9oUdf",
        "outputId": "c2a9ad96-96b5-45ab-ae9a-6d78320e0ef6"
      },
      "execution_count": null,
      "outputs": [
        {
          "output_type": "execute_result",
          "data": {
            "text/plain": [
              "array([0, 4, 0, 0, 2, 1])"
            ]
          },
          "metadata": {},
          "execution_count": 53
        }
      ]
    },
    {
      "cell_type": "code",
      "source": [
        "a = np.ones((8,8))\n",
        "a[1:-1,1:-1] = 0\n",
        "print(a)"
      ],
      "metadata": {
        "colab": {
          "base_uri": "https://localhost:8080/"
        },
        "id": "oyNkvj4XoUig",
        "outputId": "79f4ad22-edb7-4c80-b2a2-c1d4885214f4"
      },
      "execution_count": null,
      "outputs": [
        {
          "output_type": "stream",
          "name": "stdout",
          "text": [
            "[[1. 1. 1. 1. 1. 1. 1. 1.]\n",
            " [1. 0. 0. 0. 0. 0. 0. 1.]\n",
            " [1. 0. 0. 0. 0. 0. 0. 1.]\n",
            " [1. 0. 0. 0. 0. 0. 0. 1.]\n",
            " [1. 0. 0. 0. 0. 0. 0. 1.]\n",
            " [1. 0. 0. 0. 0. 0. 0. 1.]\n",
            " [1. 0. 0. 0. 0. 0. 0. 1.]\n",
            " [1. 1. 1. 1. 1. 1. 1. 1.]]\n"
          ]
        }
      ]
    },
    {
      "cell_type": "code",
      "source": [
        "a = np.ones((8,8))\n",
        "a[1::2,1::2]=0\n",
        "a[::2,::2]=0\n",
        "a\n"
      ],
      "metadata": {
        "colab": {
          "base_uri": "https://localhost:8080/"
        },
        "id": "B2ll-WNKoUlX",
        "outputId": "832b0c5f-876a-469f-c1ee-ab43a1305361"
      },
      "execution_count": null,
      "outputs": [
        {
          "output_type": "execute_result",
          "data": {
            "text/plain": [
              "array([[0., 1., 0., 1., 0., 1., 0., 1.],\n",
              "       [1., 0., 1., 0., 1., 0., 1., 0.],\n",
              "       [0., 1., 0., 1., 0., 1., 0., 1.],\n",
              "       [1., 0., 1., 0., 1., 0., 1., 0.],\n",
              "       [0., 1., 0., 1., 0., 1., 0., 1.],\n",
              "       [1., 0., 1., 0., 1., 0., 1., 0.],\n",
              "       [0., 1., 0., 1., 0., 1., 0., 1.],\n",
              "       [1., 0., 1., 0., 1., 0., 1., 0.]])"
            ]
          },
          "metadata": {},
          "execution_count": 72
        }
      ]
    },
    {
      "cell_type": "code",
      "source": [
        "# Define the arrays\n",
        "x = np.array([[1, 2], [3, 5]])\n",
        "y = np.array([[5, 6], [7, 8]])\n",
        "v = np.array([9, 10])\n",
        "w = np.array([11, 12])"
      ],
      "metadata": {
        "id": "8TVh8ouEoUoG"
      },
      "execution_count": null,
      "outputs": []
    },
    {
      "cell_type": "code",
      "source": [
        "# 1. Add the two arrays\n",
        "add_result = x + y\n",
        "print(\"1. Addition of x and y:\\n\", add_result)"
      ],
      "metadata": {
        "id": "kaRf2FqWoUtp"
      },
      "execution_count": null,
      "outputs": []
    },
    {
      "cell_type": "code",
      "source": [
        "# 2. Subtract the two arrays\n",
        "subtract_result = x - y\n",
        "print(\"\\n2. Subtraction of x and y:\\n\", subtract_result)"
      ],
      "metadata": {
        "id": "dLTGUZE7oUwV"
      },
      "execution_count": null,
      "outputs": []
    },
    {
      "cell_type": "code",
      "source": [
        "# 3. Multiply the array `x` by an integer (e.g., 3)\n",
        "multiply_result = x * 3\n",
        "print(\"\\n3. Multiplication of x by 3:\\n\", multiply_result)"
      ],
      "metadata": {
        "id": "1n5mR6aSoUy9"
      },
      "execution_count": null,
      "outputs": []
    },
    {
      "cell_type": "code",
      "source": [
        "# 4. Find the square of each element in `x`\n",
        "square_result = np.square(x)\n",
        "print(\"\\n4. Square of each element in x:\\n\", square_result)"
      ],
      "metadata": {
        "id": "0o7rjYcgoU1a"
      },
      "execution_count": null,
      "outputs": []
    },
    {
      "cell_type": "code",
      "source": [
        "# 5. Dot products\n",
        "dot_vw = np.dot(v, w)\n",
        "dot_xv = np.dot(x, v)  # This is valid because `v` can act as a column vector\n",
        "dot_xy = np.dot(x, y)\n",
        "print(\"\\n5. Dot products:\")\n",
        "print(\"   Dot product of v and w:\", dot_vw)\n",
        "print(\"   Dot product of x and v:\\n\", dot_xv)\n",
        "print(\"   Dot product of x and y:\\n\", dot_xy)\n"
      ],
      "metadata": {
        "id": "u7Bv9MztoU35"
      },
      "execution_count": null,
      "outputs": []
    },
    {
      "cell_type": "code",
      "source": [
        "# 6. Concatenate `x` and `y` along rows\n",
        "concat_xy_row = np.concatenate((x, y), axis=0)\n",
        "print(\"\\n6. Concatenate x and y along rows:\\n\", concat_xy_row)"
      ],
      "metadata": {
        "id": "PnptcHm-oU7b"
      },
      "execution_count": null,
      "outputs": []
    },
    {
      "cell_type": "code",
      "source": [
        "# Concatenate `v` and `w` along columns\n",
        "concat_vw_column = np.column_stack((v, w))\n",
        "print(\"\\n6. Concatenate v and w along columns:\\n\", concat_vw_column)"
      ],
      "metadata": {
        "id": "z-R39Vlhj4uA"
      },
      "execution_count": null,
      "outputs": []
    },
    {
      "cell_type": "code",
      "source": [
        "# 7. Attempt to concatenate `x` and `v` (observe the error)\n",
        "try:\n",
        "    concat_xv = np.concatenate((x, v), axis=0)\n",
        "    print(\"\\n7. Concatenate x and v:\\n\", concat_xv)\n",
        "except ValueError as e:\n",
        "    print(\"\\n7. Concatenate x and v resulted in an error:\")\n",
        "    print(e)\n"
      ],
      "metadata": {
        "id": "I5dF1Hx1j4yg"
      },
      "execution_count": null,
      "outputs": []
    },
    {
      "cell_type": "code",
      "source": [
        "# Define the matrices\n",
        "A = np.array([[3, 4], [7, 8]])"
      ],
      "metadata": {
        "id": "wBf6uV12j42B"
      },
      "execution_count": null,
      "outputs": []
    },
    {
      "cell_type": "code",
      "source": [
        "# Compute the inverse of A\n",
        "A_inv = np.linalg.inv(A)"
      ],
      "metadata": {
        "id": "x_bxHcPaj49A"
      },
      "execution_count": null,
      "outputs": []
    },
    {
      "cell_type": "code",
      "source": [
        "# Multiply A with its inverse\n",
        "result = np.dot(A, A_inv)"
      ],
      "metadata": {
        "id": "fzF55yvCj5AR"
      },
      "execution_count": null,
      "outputs": []
    },
    {
      "cell_type": "code",
      "source": [
        "# Print the result\n",
        "print(\"A * A^(-1) =\\n\", result)"
      ],
      "metadata": {
        "id": "uNZUA0nEj5Dk"
      },
      "execution_count": null,
      "outputs": []
    },
    {
      "cell_type": "code",
      "source": [
        "# Define the second matrix\n",
        "B = np.array([[5, 3], [2, 1]])"
      ],
      "metadata": {
        "id": "JiKAxk73j5Gg"
      },
      "execution_count": null,
      "outputs": []
    },
    {
      "cell_type": "code",
      "source": [
        "# Compute AB and BA\n",
        "AB = np.dot(A, B)\n",
        "BA = np.dot(B, A)"
      ],
      "metadata": {
        "id": "9arD2LNAj5Jq"
      },
      "execution_count": null,
      "outputs": []
    },
    {
      "cell_type": "code",
      "source": [
        "# Print both results\n",
        "print(\"AB =\\n\", AB)\n",
        "print(\"BA =\\n\", BA)"
      ],
      "metadata": {
        "id": "pF_XOAwqj5MS"
      },
      "execution_count": null,
      "outputs": []
    },
    {
      "cell_type": "code",
      "source": [
        "# Compute (AB)^T\n",
        "AB_T = np.transpose(AB)"
      ],
      "metadata": {
        "id": "pTDYJquhj5PJ"
      },
      "execution_count": null,
      "outputs": []
    },
    {
      "cell_type": "code",
      "source": [
        "# Compute B^T A^T\n",
        "BT_AT = np.dot(np.transpose(B), np.transpose(A))"
      ],
      "metadata": {
        "id": "gNDICk_Rj5SB"
      },
      "execution_count": null,
      "outputs": []
    },
    {
      "cell_type": "code",
      "source": [
        "# Print both results\n",
        "print(\"(AB)^T =\\n\", AB_T)\n",
        "print(\"B^T A^T =\\n\", BT_AT)"
      ],
      "metadata": {
        "id": "YhSBI2HCj5U0"
      },
      "execution_count": null,
      "outputs": []
    },
    {
      "cell_type": "code",
      "source": [
        "# Define the coefficient matrix A and the constant matrix B\n",
        "A = np.array([[2, -3, 1],\n",
        "              [1, -1, 2],\n",
        "              [3, 1, -1]])\n",
        "B = np.array([-1, -3, 9])"
      ],
      "metadata": {
        "id": "lewu5qD0kryb"
      },
      "execution_count": null,
      "outputs": []
    },
    {
      "cell_type": "code",
      "source": [
        "# Compute the solution using the inverse method\n",
        "A_inv = np.linalg.inv(A)\n",
        "X = np.dot(A_inv, B)"
      ],
      "metadata": {
        "id": "vyJ3udxMkr9E"
      },
      "execution_count": null,
      "outputs": []
    },
    {
      "cell_type": "code",
      "source": [
        "# Print the solution\n",
        "print(\"Solution X =\\n\", X)"
      ],
      "metadata": {
        "id": "FVsRttovksJL"
      },
      "execution_count": null,
      "outputs": []
    },
    {
      "cell_type": "code",
      "source": [
        "# Solve the linear equations using np.linalg.solve\n",
        "X_solve = np.linalg.solve(A, B)\n"
      ],
      "metadata": {
        "id": "QmxBvaZqkz03"
      },
      "execution_count": null,
      "outputs": []
    },
    {
      "cell_type": "code",
      "source": [
        "# Print the solution\n",
        "print(\"Solution using np.linalg.solve X =\\n\", X_solve)\n"
      ],
      "metadata": {
        "id": "yDuAm8m0ksVU"
      },
      "execution_count": null,
      "outputs": []
    },
    {
      "cell_type": "markdown",
      "source": [],
      "metadata": {
        "id": "GbZVTpuMj26R"
      }
    }
  ]
}